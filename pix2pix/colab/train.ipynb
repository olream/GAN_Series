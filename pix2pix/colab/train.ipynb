{
  "nbformat": 4,
  "nbformat_minor": 0,
  "metadata": {
    "colab": {
      "name": "train.ipynb",
      "provenance": [],
      "collapsed_sections": []
    },
    "kernelspec": {
      "name": "python3",
      "display_name": "Python 3"
    },
    "language_info": {
      "name": "python"
    },
    "accelerator": "GPU"
  },
  "cells": [
    {
      "cell_type": "code",
      "source": [
        "!nvidia-smi"
      ],
      "metadata": {
        "id": "3oZVGEDjw9eJ"
      },
      "execution_count": null,
      "outputs": []
    },
    {
      "cell_type": "code",
      "source": [
        "import sys\n",
        "sys.path.append('/content/drive/MyDrive/ColabNotebooks/pix2pix') "
      ],
      "metadata": {
        "id": "CIq48FcAmvCN"
      },
      "execution_count": 2,
      "outputs": []
    },
    {
      "cell_type": "code",
      "source": [
        "import torch\n",
        "from utils import save_checkpoint, load_checkpoint, save_some_examples\n",
        "import torch.nn as nn\n",
        "import torch.optim as optim\n",
        "import config\n",
        "from dataset import MapDataset\n",
        "from generator_model import Generator\n",
        "from discriminator_model import Discriminator\n",
        "from torch.utils.data import DataLoader\n",
        "from tqdm import tqdm"
      ],
      "metadata": {
        "id": "gWicSVi7m1zQ"
      },
      "execution_count": 3,
      "outputs": []
    },
    {
      "cell_type": "code",
      "execution_count": 4,
      "metadata": {
        "id": "rHkTI4LYmiKi"
      },
      "outputs": [],
      "source": [
        "def train_fn(disc, gen, loader, opt_disc, opt_gen, l1, bce):\n",
        "  loop = tqdm(loader, leave=True)\n",
        "  for idx, (x, y) in enumerate(loop):\n",
        "    x, y = x.to(config.DEVICE), y.to(config.DEVICE)\n",
        "\n",
        "    # 训练判别器\n",
        "    y_fake = gen(x)\n",
        "    D_real = disc(x, y)\n",
        "    D_fake = disc(x, y_fake.detach())  # 和计算图分离\n",
        "    D_real_loss = bce(D_real, torch.ones_like(D_real))\n",
        "    D_fake_loss = bce(D_fake, torch.zeros_like(D_fake))\n",
        "    D_loss = (D_real_loss + D_fake_loss)/2\n",
        "\n",
        "    disc.zero_grad()\n",
        "    D_loss.backward()\n",
        "    opt_disc.step()\n",
        "\n",
        "\n",
        "    # 训练生成器\n",
        "    D_fake = disc(x, y_fake)\n",
        "    G_fake_loss = bce(D_fake, torch.ones_like(D_fake))\n",
        "    L1 = l1(y_fake, y) * config.L1_LAMBDA\n",
        "    G_loss = G_fake_loss + L1\n",
        "\n",
        "    gen.zero_grad()\n",
        "    G_loss.backward()\n",
        "    opt_gen.step()\n"
      ]
    },
    {
      "cell_type": "code",
      "source": [
        "def main():\n",
        "  disc = Discriminator(in_channels=3).to(config.DEVICE)\n",
        "  gen = Generator(in_channels=3).to(config.DEVICE)\n",
        "  opt_disc = optim.Adam(disc.parameters(), lr=config.LEARNING_RATE, betas=(0.5, 0.999))\n",
        "  opt_gen = optim.Adam(gen.parameters(), lr=config.LEARNING_RATE, betas=(0.5, 0.999))\n",
        "  BCE = nn.BCELoss()\n",
        "  L1_LOSS = nn.L1Loss()\n",
        "\n",
        "  if config.LOAD_MODEL:\n",
        "    load_checkpoint(config.CHECKPOINT_GEN, gen, opt_gen, config.LEARNING_RATE)\n",
        "    load_checkpoint(config.CHECKPOINT_DISC, disc, opt_disc, config.LEARNING_RATE)\n",
        "\n",
        "  train_dataset = MapDataset(root_dir='/content/drive/MyDrive/ColabNotebooks/' + config.TRAIN_DIR)\n",
        "  train_loader = DataLoader(train_dataset, batch_size=config.BATCH_SIZE, shuffle=True, num_workers=config.NUM_WORKERS)\n",
        "  val_dataset = MapDataset(root_dir='/content/drive/MyDrive/ColabNotebooks/' + config.VAL_DIR)\n",
        "  val_loader = DataLoader(val_dataset, batch_size=1, shuffle=False)\n",
        "\n",
        "  for epoch in range(config.NUM_EPOCHS):\n",
        "    train_fn(disc, gen, train_loader, opt_disc, opt_gen, L1_LOSS, BCE)\n",
        "\n",
        "    if config.SAVE_MODEL and epoch % 10 == 0:\n",
        "      save_checkpoint(gen, opt_gen, filename='/content/drive/MyDrive/ColabNotebooks/pix2pix/' + config.CHECKPOINT_GEN)\n",
        "      save_checkpoint(disc, opt_disc, filename='/content/drive/MyDrive/ColabNotebooks/pix2pix/' + config.CHECKPOINT_DISC)\n",
        "      save_some_examples(gen, val_loader, epoch, folder='/content/drive/MyDrive/ColabNotebooks/pix2pix/evaluation')\n"
      ],
      "metadata": {
        "id": "FckmRYjNm7cC"
      },
      "execution_count": 5,
      "outputs": []
    },
    {
      "cell_type": "code",
      "source": [
        "if __name__ == '__main__':\n",
        "  main()"
      ],
      "metadata": {
        "id": "FcWh6TWZm-TZ"
      },
      "execution_count": null,
      "outputs": []
    }
  ]
}