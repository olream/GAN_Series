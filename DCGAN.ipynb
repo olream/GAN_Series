{
  "nbformat": 4,
  "nbformat_minor": 0,
  "metadata": {
    "colab": {
      "name": "DCGAN.ipynb",
      "provenance": [],
      "collapsed_sections": [],
      "authorship_tag": "ABX9TyNPvs0P/HzMZTE1S2Wn0xrv",
      "include_colab_link": true
    },
    "kernelspec": {
      "name": "python3",
      "display_name": "Python 3"
    },
    "language_info": {
      "name": "python"
    },
    "accelerator": "GPU"
  },
  "cells": [
    {
      "cell_type": "markdown",
      "metadata": {
        "id": "view-in-github",
        "colab_type": "text"
      },
      "source": [
        "<a href=\"https://colab.research.google.com/github/olream/GAN_Series/blob/main/DCGAN.ipynb\" target=\"_parent\"><img src=\"https://colab.research.google.com/assets/colab-badge.svg\" alt=\"Open In Colab\"/></a>"
      ]
    },
    {
      "cell_type": "markdown",
      "source": [
        "挂载谷歌云盘"
      ],
      "metadata": {
        "id": "VSJ9pMp52MAy"
      }
    },
    {
      "cell_type": "code",
      "source": [
        "from google.colab import drive\n",
        "drive.mount('/content/drive') # 授权 Google Drive"
      ],
      "metadata": {
        "colab": {
          "base_uri": "https://localhost:8080/"
        },
        "id": "2TyBFXmP2G47",
        "outputId": "9b6b9ec4-3430-43e8-d210-9243ab7d74cc"
      },
      "execution_count": 1,
      "outputs": [
        {
          "output_type": "stream",
          "name": "stdout",
          "text": [
            "Drive already mounted at /content/drive; to attempt to forcibly remount, call drive.mount(\"/content/drive\", force_remount=True).\n"
          ]
        }
      ]
    },
    {
      "cell_type": "markdown",
      "source": [
        "下载数据集以及训练结果存放地址"
      ],
      "metadata": {
        "id": "WvQKQjM73W_f"
      }
    },
    {
      "cell_type": "code",
      "source": [
        "PATH='/content/drive/MyDrive/ColabNotebooks/DCGAN/'"
      ],
      "metadata": {
        "id": "BM-H4L7L3lN-"
      },
      "execution_count": 2,
      "outputs": []
    },
    {
      "cell_type": "markdown",
      "source": [
        "定义模型"
      ],
      "metadata": {
        "id": "Vot1q6vs0Td8"
      }
    },
    {
      "cell_type": "code",
      "execution_count": 3,
      "metadata": {
        "id": "ihQTMamq0OMF"
      },
      "outputs": [],
      "source": [
        "import torch\n",
        "import torch.nn as nn"
      ]
    },
    {
      "cell_type": "code",
      "source": [
        "class Discriminator(nn.Module):\n",
        "  def __init__(self, channels_img, features_d):\n",
        "    super(Discriminator, self).__init__()\n",
        "    self.disc = nn.Sequential(\n",
        "        # Input: N x channels_img x 64 x 64\n",
        "        nn.Conv2d(channels_img, features_d, kernel_size=4, stride=2, padding=1), # 32 x 32\n",
        "        nn.LeakyReLU(0.2),\n",
        "        self._block(features_d, features_d*2, 4, 2, 1), # 16 x 16\n",
        "        self._block(features_d*2, features_d*4, 4, 2, 1), # 8 x 8\n",
        "        self._block(features_d*4, features_d*8, 4, 2, 1), # 4 x 4\n",
        "        nn.Conv2d(features_d*8, 1, kernel_size=4, stride=2, padding=0), # 1 x 1\n",
        "        nn.Sigmoid(),\n",
        "    )\n",
        "  \n",
        "  def _block(self, in_channels, out_channels, kernel_size, stride, padding):\n",
        "    return nn.Sequential(\n",
        "        nn.Conv2d(in_channels, out_channels, kernel_size, stride, padding, bias=False),\n",
        "        nn.BatchNorm2d(out_channels),\n",
        "        nn.LeakyReLU(0.2),      \n",
        "    )\n",
        "\n",
        "  def forward(self, x):\n",
        "    return self.disc(x)\n",
        "\n",
        "class Generator(nn.Module):\n",
        "  def __init__(self, z_dim, channels_img, features_g):\n",
        "    super(Generator, self).__init__()\n",
        "    self.gen = nn.Sequential(\n",
        "        # Input: N x z_dim x 1 x 1\n",
        "        self._block(z_dim, features_g*16, 4, 1, 0), # N x f_g*16 x 4 x 4\n",
        "        self._block(features_g*16, features_g*8, 4, 2, 1), # N x f_g*8 x 8 x 8\n",
        "        self._block(features_g*8, features_g*4, 4, 2, 1), # N x f_g*4 x 16 x 16\n",
        "        self._block(features_g*4, features_g*2, 4, 2, 1), # N x f_g*2 x 32 x 32\n",
        "        nn.ConvTranspose2d(features_g*2, channels_img, kernel_size=4, stride=2, padding=1), # N x 3 x 64 x 64\n",
        "        nn.Tanh(), # [-1,1]\n",
        "    )\n",
        "\n",
        "  def _block(self, in_channels, out_channels, kernel_size, stride, padding):\n",
        "    return nn.Sequential(\n",
        "        nn.ConvTranspose2d(in_channels, out_channels, kernel_size, stride, padding, bias=False),\n",
        "        nn.BatchNorm2d(out_channels),\n",
        "        nn.ReLU(),\n",
        "    )\n",
        "  \n",
        "  def forward(self, x):\n",
        "    return self.gen(x)\n"
      ],
      "metadata": {
        "id": "pTQkLK3P04Mf"
      },
      "execution_count": 4,
      "outputs": []
    },
    {
      "cell_type": "code",
      "source": [
        "def initialize_weights(model):\n",
        "  for m in model.modules():\n",
        "    if isinstance(m, (nn.Conv2d, nn.ConvTranspose2d, nn.BatchNorm2d)):\n",
        "      nn.init.normal_(m.weight.data, 0.0, 0.02)"
      ],
      "metadata": {
        "id": "eQE5_B-z06xE"
      },
      "execution_count": 5,
      "outputs": []
    },
    {
      "cell_type": "code",
      "source": [
        "def test():\n",
        "  N, in_channels, H, W = 8, 3, 64, 64\n",
        "  z_dim = 100\n",
        "  x = torch.randn((N, in_channels, H, W))\n",
        "  # discriminator\n",
        "  disc = Discriminator(in_channels, 8)\n",
        "  initialize_weights(disc)\n",
        "  assert disc(x).shape == (N, 1, 1, 1), \"Discriminator test failed\"\n",
        "  # generator\n",
        "  gen = Generator(z_dim, in_channels, 64)\n",
        "  initialize_weights(gen)\n",
        "  z = torch.randn((N, z_dim, 1, 1))\n",
        "  assert gen(z).shape == (N, in_channels, H, W), \"Generator test failed\"\n",
        "  print('success')\n",
        "\n",
        "# test() # 测试模型输出"
      ],
      "metadata": {
        "id": "20RnGP6i09JD"
      },
      "execution_count": 6,
      "outputs": []
    },
    {
      "cell_type": "markdown",
      "source": [
        "main"
      ],
      "metadata": {
        "id": "wSqsKBsK1A78"
      }
    },
    {
      "cell_type": "code",
      "source": [
        "import os\n",
        "import torch\n",
        "import torch.nn as nn\n",
        "import torch.optim as optim\n",
        "import torchvision\n",
        "import torchvision.datasets as datasets\n",
        "import torchvision.transforms as transforms\n",
        "from torch.utils.data import DataLoader\n",
        "from torch.utils.tensorboard import SummaryWriter"
      ],
      "metadata": {
        "id": "Ql3aSyG21DhN"
      },
      "execution_count": 7,
      "outputs": []
    },
    {
      "cell_type": "code",
      "source": [
        "# 调用cuda\n",
        "if torch.cuda.is_available():\n",
        "  device = torch.device('cuda')\n",
        "  print(torch.cuda.get_device_name()) \n",
        "else:\n",
        "  device = torch.device('cpu')\n",
        "  print('cpu only')\n",
        "# 训练参数 \n",
        "LEARNING_RATE = 2e-4\n",
        "BATCH_SIZE = 128\n",
        "IMAGE_SIZE = 64\n",
        "CHANNELS_IMG = 1\n",
        "Z_DIM = 100\n",
        "NUM_EPOCHS = 5\n",
        "FEATURES_DISC = 64\n",
        "FEATURES_GEN = 64\n",
        "SAVE_MODEL_PATH = PATH + 'check_points'"
      ],
      "metadata": {
        "colab": {
          "base_uri": "https://localhost:8080/"
        },
        "id": "tycQfW_m1H8b",
        "outputId": "f07b88d2-aa9d-4fa9-8cc0-5b99a3761423"
      },
      "execution_count": 8,
      "outputs": [
        {
          "output_type": "stream",
          "name": "stdout",
          "text": [
            "Tesla K80\n"
          ]
        }
      ]
    },
    {
      "cell_type": "code",
      "source": [
        "# 下载并处理数据集\n",
        "transforms = transforms.Compose(\n",
        "    [\n",
        "     transforms.Resize(IMAGE_SIZE),\n",
        "     transforms.ToTensor(),\n",
        "     transforms.Normalize(\n",
        "         [0.5 for _ in range(CHANNELS_IMG)],[0.5 for _ in range(CHANNELS_IMG)]),\n",
        "    ]\n",
        ")\n",
        "dataset = datasets.MNIST(root=PATH + 'Datasets', train=True, transform=transforms, download=True)\n",
        "dataloader = DataLoader(dataset, batch_size=BATCH_SIZE, shuffle=True)"
      ],
      "metadata": {
        "id": "APCzXLvp1IIg"
      },
      "execution_count": 9,
      "outputs": []
    },
    {
      "cell_type": "code",
      "source": [
        "# 初始化网络\n",
        "gen = Generator(Z_DIM, CHANNELS_IMG, FEATURES_GEN).to(device)\n",
        "disc = Discriminator(CHANNELS_IMG, FEATURES_DISC).to(device)\n",
        "initialize_weights(gen)\n",
        "initialize_weights(disc)\n",
        "# 加载参数继续训练\n",
        "# gen = torch.load(os.path.join(SAVE_MODEL_PATH,f'gen_newest.pth'))\n",
        "# disc = torch.load(os.path.join(SAVE_MODEL_PATH,f'disc_newest.pth'))\n",
        "\n",
        "# 定义优化器\n",
        "opt_gen = optim.Adam(gen.parameters(), lr=LEARNING_RATE, betas=(0.5, 0.999))\n",
        "opt_disc = optim.Adam(disc.parameters(), lr=LEARNING_RATE, betas=(0.5, 0.999))\n",
        "\n",
        "# 定义损失函数\n",
        "criterion = nn.BCELoss()\n",
        "\n",
        "# 展示结果的时候，将相同的z输入生成器，得到相同的数字（图像不一样），以进行效果比较\n",
        "fixed_noise = torch.randn(32, Z_DIM, 1, 1).to(device)\n",
        "\n",
        "# tensorboard\n",
        "writer = SummaryWriter(PATH + 'logs/all')\n"
      ],
      "metadata": {
        "id": "dOcKGU-41Mah"
      },
      "execution_count": 10,
      "outputs": []
    },
    {
      "cell_type": "code",
      "source": [
        "step=0\n",
        "# 训练模型\n",
        "gen.train()\n",
        "disc.train()\n",
        "for epoch in range(NUM_EPOCHS):\n",
        "  for batch_idx, (real, _) in enumerate(dataloader):\n",
        "    # 真实图片\n",
        "    real = real.to(device)\n",
        "    # 生成图片\n",
        "    noise = torch.randn((BATCH_SIZE,Z_DIM,1,1)).to(device)\n",
        "    fake = gen(noise)\n",
        "\n",
        "    ### 训练判别器，目标函数max log(D(x)) + log(1-D(G(z)))\n",
        "    # 输入真实的图片，得到判别器的输出\n",
        "    disc_real = disc(real).reshape(-1) # N x 1 x 1 x 1 => N\n",
        "    # 计算损失\n",
        "    loss_disc_real = criterion(disc_real, torch.ones_like(disc_real))\n",
        "    # 输入生成的fake，得到判别器的输出\n",
        "    disc_fake = disc(fake).reshape(-1)\n",
        "    # 计算损失\n",
        "    loss_disc_fake = criterion(disc_fake, torch.zeros_like(disc_fake))\n",
        "    # 损失求和 \n",
        "    loss_disc = (loss_disc_real + loss_disc_fake)/2\n",
        "    # 清除梯度\n",
        "    opt_disc.zero_grad()\n",
        "    # 误差反传，有两个backward，要保留计算图\n",
        "    loss_disc.backward(retain_graph=True)\n",
        "    # 更新参数\n",
        "    opt_disc.step()\n",
        "\n",
        "    ### 训练生成器，目标函数min log(1-D(G(z))) 等价于max log(D(G(z)))\n",
        "    # 输入生成的fake，得到判别器的输出\n",
        "    output = disc(fake).reshape(-1)\n",
        "    loss_gen = criterion(output, torch.ones_like(output))\n",
        "    opt_gen.zero_grad()\n",
        "    loss_gen.backward()\n",
        "    opt_gen.step()\n",
        "\n",
        "    # Print losser occasionally and print to tensorboard\n",
        "    if batch_idx % 100 == 0:\n",
        "      torch.save(gen, os.path.join(SAVE_MODEL_PATH,f'gen_newest.pth'))\n",
        "      torch.save(disc, os.path.join(SAVE_MODEL_PATH,f'disc_newest.pth'))\n",
        "      print(\n",
        "          f'Epoch [{epoch}/{NUM_EPOCHS}] Batch {batch_idx}/{len(dataloader)} \\\n",
        "          Loss D: {loss_disc:.4f}, Loss G: {loss_gen:.4f}'\n",
        "      )\n",
        "\n",
        "      with torch.no_grad():\n",
        "        fake = gen(fixed_noise)\n",
        "        img_grid_real = torchvision.utils.make_grid(\n",
        "            real[:32], normalize=True\n",
        "        )\n",
        "        img_grid_fake = torchvision.utils.make_grid(\n",
        "            fake[:32], normalize=True\n",
        "        )\n",
        "\n",
        "        writer.add_image('REAL', img_grid_real, global_step = step)\n",
        "        writer.add_image('FAKE', img_grid_fake, global_step = step)\n",
        "        writer.close()\n",
        "      step += 1"
      ],
      "metadata": {
        "id": "jCm02Q6X1PMi"
      },
      "execution_count": null,
      "outputs": []
    },
    {
      "cell_type": "code",
      "source": [
        "# 模型效果可视化\n",
        "%load_ext tensorboard\n",
        "%tensorboard --logdir '/content/drive/MyDrive/ColabNotebooks/DCGAN/logs'"
      ],
      "metadata": {
        "id": "PGQsiJYW1Q4m"
      },
      "execution_count": null,
      "outputs": []
    }
  ]
}