{
  "nbformat": 4,
  "nbformat_minor": 0,
  "metadata": {
    "colab": {
      "name": "train.ipynb",
      "provenance": [],
      "collapsed_sections": [],
      "mount_file_id": "1W9TZYFWt_wP8z5B1kKF_n8dAiYYVA9bd",
      "authorship_tag": "ABX9TyOICJ/PQ3CJffszfJ+XqHGq",
      "include_colab_link": true
    },
    "kernelspec": {
      "name": "python3",
      "display_name": "Python 3"
    },
    "language_info": {
      "name": "python"
    },
    "accelerator": "GPU"
  },
  "cells": [
    {
      "cell_type": "markdown",
      "metadata": {
        "id": "view-in-github",
        "colab_type": "text"
      },
      "source": [
        "<a href=\"https://colab.research.google.com/github/olream/GAN_Series/blob/main/train.ipynb\" target=\"_parent\"><img src=\"https://colab.research.google.com/assets/colab-badge.svg\" alt=\"Open In Colab\"/></a>"
      ]
    },
    {
      "cell_type": "code",
      "source": [
        "!nvidia-smi"
      ],
      "metadata": {
        "colab": {
          "base_uri": "https://localhost:8080/"
        },
        "id": "3oZVGEDjw9eJ",
        "outputId": "0ecc32e8-d116-43b9-f37e-5bb2049f89ec"
      },
      "execution_count": 1,
      "outputs": [
        {
          "output_type": "stream",
          "name": "stdout",
          "text": [
            "Sun Apr 17 13:54:08 2022       \n",
            "+-----------------------------------------------------------------------------+\n",
            "| NVIDIA-SMI 460.32.03    Driver Version: 460.32.03    CUDA Version: 11.2     |\n",
            "|-------------------------------+----------------------+----------------------+\n",
            "| GPU  Name        Persistence-M| Bus-Id        Disp.A | Volatile Uncorr. ECC |\n",
            "| Fan  Temp  Perf  Pwr:Usage/Cap|         Memory-Usage | GPU-Util  Compute M. |\n",
            "|                               |                      |               MIG M. |\n",
            "|===============================+======================+======================|\n",
            "|   0  Tesla T4            Off  | 00000000:00:04.0 Off |                    0 |\n",
            "| N/A   47C    P8    10W /  70W |      0MiB / 15109MiB |      0%      Default |\n",
            "|                               |                      |                  N/A |\n",
            "+-------------------------------+----------------------+----------------------+\n",
            "                                                                               \n",
            "+-----------------------------------------------------------------------------+\n",
            "| Processes:                                                                  |\n",
            "|  GPU   GI   CI        PID   Type   Process name                  GPU Memory |\n",
            "|        ID   ID                                                   Usage      |\n",
            "|=============================================================================|\n",
            "|  No running processes found                                                 |\n",
            "+-----------------------------------------------------------------------------+\n"
          ]
        }
      ]
    },
    {
      "cell_type": "code",
      "source": [
        "import sys\n",
        "sys.path.append('/content/drive/MyDrive/ColabNotebooks/pix2pix') "
      ],
      "metadata": {
        "id": "CIq48FcAmvCN"
      },
      "execution_count": 2,
      "outputs": []
    },
    {
      "cell_type": "code",
      "source": [
        "import torch\n",
        "from utils import save_checkpoint, load_checkpoint, save_some_examples\n",
        "import torch.nn as nn\n",
        "import torch.optim as optim\n",
        "import config\n",
        "from dataset import MapDataset\n",
        "from generator_model import Generator\n",
        "from discriminator_model import Discriminator\n",
        "from torch.utils.data import DataLoader\n",
        "from tqdm import tqdm"
      ],
      "metadata": {
        "id": "gWicSVi7m1zQ"
      },
      "execution_count": 3,
      "outputs": []
    },
    {
      "cell_type": "code",
      "execution_count": 4,
      "metadata": {
        "id": "rHkTI4LYmiKi"
      },
      "outputs": [],
      "source": [
        "def train_fn(disc, gen, loader, opt_disc, opt_gen, l1, bce):\n",
        "  loop = tqdm(loader, leave=True)\n",
        "  for idx, (x, y) in enumerate(loop):\n",
        "    x, y = x.to(config.DEVICE), y.to(config.DEVICE)\n",
        "\n",
        "    # 训练判别器\n",
        "    y_fake = gen(x)\n",
        "    D_real = disc(x, y)\n",
        "    D_fake = disc(x, y_fake.detach())  # 和计算图分离\n",
        "    D_real_loss = bce(D_real, torch.ones_like(D_real))\n",
        "    D_fake_loss = bce(D_fake, torch.zeros_like(D_fake))\n",
        "    D_loss = (D_real_loss + D_fake_loss)/2\n",
        "\n",
        "    disc.zero_grad()\n",
        "    D_loss.backward()\n",
        "    opt_disc.step()\n",
        "\n",
        "\n",
        "    # 训练生成器\n",
        "    D_fake = disc(x, y_fake)\n",
        "    G_fake_loss = bce(D_fake, torch.ones_like(D_fake))\n",
        "    L1 = l1(y_fake, y) * config.L1_LAMBDA\n",
        "    G_loss = G_fake_loss + L1\n",
        "\n",
        "    gen.zero_grad()\n",
        "    G_loss.backward()\n",
        "    opt_gen.step()\n"
      ]
    },
    {
      "cell_type": "code",
      "source": [
        "def main():\n",
        "  disc = Discriminator(in_channels=3).to(config.DEVICE)\n",
        "  gen = Generator(in_channels=3).to(config.DEVICE)\n",
        "  opt_disc = optim.Adam(disc.parameters(), lr=config.LEARNING_RATE, betas=(0.5, 0.999))\n",
        "  opt_gen = optim.Adam(gen.parameters(), lr=config.LEARNING_RATE, betas=(0.5, 0.999))\n",
        "  BCE = nn.BCELoss()\n",
        "  L1_LOSS = nn.L1Loss()\n",
        "\n",
        "  if config.LOAD_MODEL:\n",
        "    load_checkpoint(config.CHECKPOINT_GEN, gen, opt_gen, config.LEARNING_RATE)\n",
        "    load_checkpoint(config.CHECKPOINT_DISC, disc, opt_disc, config.LEARNING_RATE)\n",
        "\n",
        "  train_dataset = MapDataset(root_dir='/content/drive/MyDrive/ColabNotebooks/' + config.TRAIN_DIR)\n",
        "  train_loader = DataLoader(train_dataset, batch_size=config.BATCH_SIZE, shuffle=True, num_workers=config.NUM_WORKERS)\n",
        "  val_dataset = MapDataset(root_dir='/content/drive/MyDrive/ColabNotebooks/' + config.VAL_DIR)\n",
        "  val_loader = DataLoader(val_dataset, batch_size=1, shuffle=False)\n",
        "\n",
        "  for epoch in range(config.NUM_EPOCHS):\n",
        "    train_fn(disc, gen, train_loader, opt_disc, opt_gen, L1_LOSS, BCE)\n",
        "\n",
        "    if config.SAVE_MODEL and epoch % 10 == 0:\n",
        "      save_checkpoint(gen, opt_gen, filename='/content/drive/MyDrive/ColabNotebooks/pix2pix/' + config.CHECKPOINT_GEN)\n",
        "      save_checkpoint(disc, opt_disc, filename='/content/drive/MyDrive/ColabNotebooks/pix2pix/' + config.CHECKPOINT_DISC)\n",
        "      save_some_examples(gen, val_loader, epoch, folder='/content/drive/MyDrive/ColabNotebooks/pix2pix/evaluation')\n"
      ],
      "metadata": {
        "id": "FckmRYjNm7cC"
      },
      "execution_count": 5,
      "outputs": []
    },
    {
      "cell_type": "code",
      "source": [
        "if __name__ == '__main__':\n",
        "  main()"
      ],
      "metadata": {
        "id": "FcWh6TWZm-TZ",
        "colab": {
          "base_uri": "https://localhost:8080/"
        },
        "outputId": "597bc706-7b6c-4522-c486-7593041bcdfc"
      },
      "execution_count": null,
      "outputs": [
        {
          "output_type": "stream",
          "name": "stdout",
          "text": [
            "['105.jpg', '90.jpg', '92.jpg', '107.jpg', '95.jpg', '110.jpg', '97.jpg', '112.jpg', '98.jpg', '114.jpg', '99.jpg', '116.jpg', '118.jpg', '119.jpg', '120.jpg', '121.jpg', '122.jpg', '123.jpg', '124.jpg', '125.jpg', '126.jpg', '127.jpg', '128.jpg', '129.jpg', '130.jpg', '131.jpg', '132.jpg', '133.jpg', '101.jpg', '134.jpg', '104.jpg', '136.jpg', '106.jpg', '138.jpg', '108.jpg', '140.jpg', '142.jpg', '109.jpg', '111.jpg', '144.jpg', '146.jpg', '147.jpg', '113.jpg', '148.jpg', '150.jpg', '151.jpg', '115.jpg', '152.jpg', '117.jpg', '154.jpg', '135.jpg', '156.jpg', '137.jpg', '158.jpg', '139.jpg', '160.jpg', '141.jpg', '162.jpg', '143.jpg', '164.jpg', '145.jpg', '149.jpg', '167.jpg', '153.jpg', '169.jpg', '155.jpg', '171.jpg', '157.jpg', '173.jpg', '159.jpg', '175.jpg', '161.jpg', '177.jpg', '163.jpg', '179.jpg', '165.jpg', '166.jpg', '168.jpg', '170.jpg', '172.jpg', '181.jpg', '174.jpg', '187.jpg', '176.jpg', '189.jpg', '178.jpg', '191.jpg', '180.jpg', '193.jpg', '194.jpg', '182.jpg', '196.jpg', '183.jpg', '198.jpg', '184.jpg', '200.jpg', '185.jpg', '202.jpg', '186.jpg', '204.jpg', '188.jpg', '206.jpg', '190.jpg', '208.jpg', '192.jpg', '210.jpg', '212.jpg', '195.jpg', '213.jpg', '197.jpg', '215.jpg', '199.jpg', '217.jpg', '201.jpg', '219.jpg', '203.jpg', '221.jpg', '205.jpg', '223.jpg', '207.jpg', '225.jpg', '227.jpg', '228.jpg', '229.jpg', '209.jpg', '230.jpg', '211.jpg', '232.jpg', '214.jpg', '234.jpg', '216.jpg', '218.jpg', '236.jpg', '239.jpg', '240.jpg', '241.jpg', '220.jpg', '242.jpg', '222.jpg', '224.jpg', '245.jpg', '226.jpg', '247.jpg', '231.jpg', '233.jpg', '249.jpg', '235.jpg', '252.jpg', '254.jpg', '237.jpg', '255.jpg', '238.jpg', '257.jpg', '243.jpg', '259.jpg', '260.jpg', '244.jpg', '246.jpg', '263.jpg', '248.jpg', '264.jpg', '250.jpg', '267.jpg', '269.jpg', '251.jpg', '253.jpg', '271.jpg', '272.jpg', '256.jpg', '274.jpg', '276.jpg', '258.jpg', '277.jpg', '261.jpg', '279.jpg', '262.jpg', '281.jpg', '265.jpg', '283.jpg', '266.jpg', '285.jpg', '286.jpg', '268.jpg', '288.jpg', '270.jpg', '290.jpg', '273.jpg', '275.jpg', '278.jpg', '292.jpg', '280.jpg', '296.jpg', '297.jpg', '282.jpg', '299.jpg', '284.jpg', '301.jpg', '287.jpg', '303.jpg', '289.jpg', '305.jpg', '291.jpg', '307.jpg', '293.jpg', '309.jpg', '294.jpg', '311.jpg', '313.jpg', '314.jpg', '315.jpg', '316.jpg', '317.jpg', '295.jpg', '318.jpg', '298.jpg', '320.jpg', '300.jpg', '322.jpg', '302.jpg', '324.jpg', '304.jpg', '326.jpg', '327.jpg', '306.jpg', '329.jpg', '308.jpg', '331.jpg', '310.jpg', '333.jpg', '312.jpg', '335.jpg', '319.jpg', '337.jpg', '321.jpg', '339.jpg', '323.jpg', '341.jpg', '325.jpg', '343.jpg', '328.jpg', '345.jpg', '330.jpg', '347.jpg', '332.jpg', '349.jpg', '334.jpg', '351.jpg', '336.jpg', '353.jpg', '338.jpg', '355.jpg', '340.jpg', '342.jpg', '344.jpg', '357.jpg', '346.jpg', '361.jpg', '348.jpg', '363.jpg', '350.jpg', '365.jpg', '352.jpg', '367.jpg', '354.jpg', '369.jpg', '356.jpg', '371.jpg', '358.jpg', '373.jpg', '359.jpg', '375.jpg', '360.jpg', '377.jpg', '362.jpg', '379.jpg', '364.jpg', '366.jpg', '382.jpg', '368.jpg', '384.jpg', '370.jpg', '386.jpg', '372.jpg', '388.jpg', '374.jpg', '390.jpg', '376.jpg', '392.jpg', '378.jpg', '394.jpg', '380.jpg', '381.jpg', '396.jpg', '383.jpg', '399.jpg', '385.jpg', '401.jpg', '387.jpg', '403.jpg', '405.jpg', '406.jpg', '389.jpg', '391.jpg', '407.jpg', '393.jpg', '410.jpg', '395.jpg', '412.jpg', '397.jpg', '414.jpg', '416.jpg', '398.jpg', '417.jpg', '400.jpg', '419.jpg', '402.jpg', '421.jpg', '404.jpg', '423.jpg', '408.jpg', '409.jpg', '425.jpg', '411.jpg', '428.jpg', '413.jpg', '430.jpg', '415.jpg', '432.jpg', '418.jpg', '434.jpg', '420.jpg', '436.jpg', '422.jpg', '438.jpg', '424.jpg', '440.jpg', '426.jpg', '427.jpg', '442.jpg', '429.jpg', '445.jpg', '431.jpg', '447.jpg', '433.jpg', '449.jpg', '435.jpg', '451.jpg', '437.jpg', '439.jpg', '454.jpg', '455.jpg', '441.jpg', '457.jpg', '443.jpg', '459.jpg', '444.jpg', '446.jpg', '462.jpg', '448.jpg', '464.jpg', '450.jpg', '466.jpg', '468.jpg', '452.jpg', '469.jpg', '453.jpg', '456.jpg', '472.jpg', '458.jpg', '474.jpg', '460.jpg', '476.jpg', '461.jpg', '478.jpg', '463.jpg', '480.jpg', '465.jpg', '482.jpg', '467.jpg', '484.jpg', '486.jpg', '470.jpg', '487.jpg', '489.jpg', '471.jpg', '490.jpg', '473.jpg', '492.jpg', '475.jpg', '477.jpg', '494.jpg', '479.jpg', '497.jpg', '481.jpg', '499.jpg', '501.jpg', '502.jpg', '483.jpg', '485.jpg', '488.jpg', '491.jpg', '493.jpg', '495.jpg', '496.jpg', '498.jpg', '503.jpg', '500.jpg', '512.jpg', '514.jpg', '515.jpg', '516.jpg', '517.jpg', '518.jpg', '519.jpg', '520.jpg', '521.jpg', '522.jpg', '523.jpg', '524.jpg', '525.jpg', '526.jpg', '527.jpg', '528.jpg', '504.jpg', '529.jpg', '505.jpg', '531.jpg', '506.jpg', '534.jpg', '507.jpg', '535.jpg', '508.jpg', '537.jpg', '509.jpg', '539.jpg', '510.jpg', '541.jpg', '511.jpg', '543.jpg', '513.jpg', '530.jpg', '545.jpg', '532.jpg', '548.jpg', '533.jpg', '550.jpg', '552.jpg', '536.jpg', '538.jpg', '540.jpg', '542.jpg', '544.jpg', '553.jpg', '546.jpg', '559.jpg', '547.jpg', '561.jpg', '549.jpg', '563.jpg', '551.jpg', '554.jpg', '566.jpg', '555.jpg', '568.jpg', '556.jpg', '570.jpg', '557.jpg', '572.jpg', '558.jpg', '574.jpg', '576.jpg', '560.jpg', '577.jpg', '562.jpg', '579.jpg', '564.jpg', '581.jpg', '565.jpg', '583.jpg', '567.jpg', '585.jpg', '569.jpg', '587.jpg', '571.jpg', '589.jpg', '591.jpg', '573.jpg', '592.jpg', '575.jpg', '594.jpg', '578.jpg', '596.jpg', '598.jpg', '580.jpg', '582.jpg', '599.jpg', '584.jpg', '602.jpg', '586.jpg', '604.jpg', '588.jpg', '606.jpg', '590.jpg', '608.jpg', '593.jpg', '595.jpg', '610.jpg', '613.jpg', '597.jpg', '614.jpg', '600.jpg', '616.jpg', '601.jpg', '618.jpg', '603.jpg', '620.jpg', '605.jpg', '622.jpg', '624.jpg', '625.jpg', '626.jpg', '607.jpg', '627.jpg', '609.jpg', '629.jpg', '611.jpg', '612.jpg', '632.jpg', '633.jpg', '615.jpg', '635.jpg', '617.jpg', '637.jpg', '619.jpg', '639.jpg', '621.jpg', '641.jpg', '623.jpg', '628.jpg', '643.jpg', '630.jpg', '646.jpg', '631.jpg', '648.jpg', '650.jpg', '634.jpg', '651.jpg', '636.jpg', '638.jpg', '654.jpg', '640.jpg', '656.jpg', '642.jpg', '644.jpg', '645.jpg', '658.jpg', '647.jpg', '662.jpg', '664.jpg', '649.jpg', '665.jpg', '667.jpg', '652.jpg', '668.jpg', '669.jpg', '653.jpg', '671.jpg', '655.jpg', '673.jpg', '657.jpg', '675.jpg', '659.jpg', '677.jpg', '660.jpg', '679.jpg', '661.jpg', '681.jpg', '663.jpg', '666.jpg', '683.jpg', '670.jpg', '672.jpg', '674.jpg', '686.jpg', '676.jpg', '678.jpg', '690.jpg', '680.jpg', '693.jpg', '695.jpg', '696.jpg', '697.jpg', '698.jpg', '699.jpg', '700.jpg', '682.jpg', '701.jpg', '684.jpg', '704.jpg', '685.jpg', '705.jpg', '687.jpg', '707.jpg', '688.jpg', '689.jpg', '691.jpg', '692.jpg', '709.jpg', '694.jpg', '714.jpg', '702.jpg', '716.jpg', '703.jpg', '718.jpg', '706.jpg', '720.jpg', '708.jpg', '722.jpg', '710.jpg', '724.jpg', '711.jpg', '726.jpg', '712.jpg', '728.jpg', '713.jpg', '715.jpg', '717.jpg', '719.jpg', '731.jpg', '735.jpg', '721.jpg', '736.jpg', '723.jpg', '725.jpg', '739.jpg', '727.jpg', '741.jpg', '729.jpg', '743.jpg', '730.jpg', '732.jpg', '733.jpg', '734.jpg', '745.jpg', '737.jpg', '750.jpg', '738.jpg', '740.jpg', '752.jpg', '755.jpg', '742.jpg', '756.jpg', '744.jpg', '758.jpg', '746.jpg', '760.jpg', '747.jpg', '762.jpg', '748.jpg', '764.jpg', '749.jpg', '766.jpg', '751.jpg', '768.jpg', '753.jpg', '770.jpg', '754.jpg', '772.jpg', '757.jpg', '774.jpg', '759.jpg', '776.jpg', '778.jpg', '761.jpg', '779.jpg', '763.jpg', '781.jpg', '765.jpg', '783.jpg', '767.jpg', '769.jpg', '786.jpg', '771.jpg', '788.jpg', '773.jpg', '790.jpg', '792.jpg', '775.jpg', '793.jpg', '777.jpg', '795.jpg', '780.jpg', '797.jpg', '782.jpg', '799.jpg', '784.jpg', '801.jpg', '785.jpg', '787.jpg', '803.jpg', '806.jpg', '789.jpg', '807.jpg', '791.jpg', '809.jpg', '794.jpg', '811.jpg', '796.jpg', '813.jpg', '798.jpg', '815.jpg', '800.jpg', '817.jpg', '802.jpg', '819.jpg', '820.jpg', '804.jpg', '805.jpg', '808.jpg', '822.jpg', '810.jpg', '826.jpg', '812.jpg', '828.jpg', '830.jpg', '814.jpg', '816.jpg', '832.jpg', '818.jpg', '834.jpg', '821.jpg', '836.jpg', '823.jpg', '838.jpg', '840.jpg', '841.jpg', '824.jpg', '842.jpg', '825.jpg', '844.jpg', '846.jpg', '827.jpg', '847.jpg', '829.jpg', '849.jpg', '831.jpg', '833.jpg', '851.jpg', '835.jpg', '854.jpg', '837.jpg', '856.jpg', '858.jpg', '839.jpg', '859.jpg', '843.jpg', '861.jpg', '845.jpg', '863.jpg', '848.jpg', '865.jpg', '850.jpg', '867.jpg', '852.jpg', '869.jpg', '853.jpg', '871.jpg', '855.jpg', '857.jpg', '874.jpg', '860.jpg', '876.jpg', '862.jpg', '878.jpg', '864.jpg', '880.jpg', '882.jpg', '866.jpg', '883.jpg', '868.jpg', '885.jpg', '870.jpg', '872.jpg', '887.jpg', '873.jpg', '890.jpg', '875.jpg', '892.jpg', '877.jpg', '894.jpg', '879.jpg', '896.jpg', '881.jpg', '898.jpg', '900.jpg', '884.jpg', '886.jpg', '901.jpg', '888.jpg', '904.jpg', '889.jpg', '905.jpg', '891.jpg', '908.jpg', '893.jpg', '910.jpg', '895.jpg', '912.jpg', '897.jpg', '914.jpg', '915.jpg', '899.jpg', '902.jpg', '918.jpg', '903.jpg', '920.jpg', '906.jpg', '907.jpg', '923.jpg', '909.jpg', '925.jpg', '911.jpg', '927.jpg', '913.jpg', '929.jpg', '930.jpg', '916.jpg', '932.jpg', '917.jpg', '934.jpg', '919.jpg', '936.jpg', '938.jpg', '921.jpg', '939.jpg', '941.jpg', '922.jpg', '924.jpg', '943.jpg', '926.jpg', '945.jpg', '928.jpg', '947.jpg', '931.jpg', '949.jpg', '933.jpg', '951.jpg', '952.jpg', '935.jpg', '937.jpg', '940.jpg', '942.jpg', '954.jpg', '944.jpg', '959.jpg', '946.jpg', '961.jpg', '948.jpg', '963.jpg', '950.jpg', '965.jpg', '953.jpg', '967.jpg', '955.jpg', '969.jpg', '956.jpg', '971.jpg', '957.jpg', '973.jpg', '958.jpg', '975.jpg', '960.jpg', '977.jpg', '962.jpg', '979.jpg', '964.jpg', '981.jpg', '982.jpg', '966.jpg', '968.jpg', '985.jpg', '970.jpg', '987.jpg', '972.jpg', '974.jpg', '976.jpg', '989.jpg', '992.jpg', '978.jpg', '994.jpg', '980.jpg', '983.jpg', '984.jpg', '986.jpg', '996.jpg', '988.jpg', '1001.jpg', '990.jpg', '1003.jpg', '991.jpg', '1005.jpg', '993.jpg', '1007.jpg', '995.jpg', '1009.jpg', '997.jpg', '998.jpg', '1011.jpg', '999.jpg', '1014.jpg', '1000.jpg', '1016.jpg', '1017.jpg', '1002.jpg', '1019.jpg', '1021.jpg', '1004.jpg', '1006.jpg', '1023.jpg', '1008.jpg', '1025.jpg', '1010.jpg', '1027.jpg', '1012.jpg', '1029.jpg', '1013.jpg', '1031.jpg', '1015.jpg', '1033.jpg', '1018.jpg', '1035.jpg', '1020.jpg', '1037.jpg', '1022.jpg', '1039.jpg', '1024.jpg', '1041.jpg', '1026.jpg', '1043.jpg', '1028.jpg', '1045.jpg', '1047.jpg', '1048.jpg', '1049.jpg', '1030.jpg', '1032.jpg', '1050.jpg', '1053.jpg', '1034.jpg', '1054.jpg', '1036.jpg', '1056.jpg', '1038.jpg', '1040.jpg', '1042.jpg', '1058.jpg', '1061.jpg', '1044.jpg', '1063.jpg', '1046.jpg', '1065.jpg', '1051.jpg', '1067.jpg', '1052.jpg', '1069.jpg', '1055.jpg', '1071.jpg', '1057.jpg', '1073.jpg', '1059.jpg', '1075.jpg', '1060.jpg', '1077.jpg', '1062.jpg', '1079.jpg', '1064.jpg', '1081.jpg', '1066.jpg', '1083.jpg', '1068.jpg', '1085.jpg', '1070.jpg', '1087.jpg', '1089.jpg', '1072.jpg', '1090.jpg', '1074.jpg', '1092.jpg', '1076.jpg', '1094.jpg', '1095.jpg', '1078.jpg', '1080.jpg', '1082.jpg', '1084.jpg', '1086.jpg', '1088.jpg', '1091.jpg', '1093.jpg', '1096.jpg', '10.jpg', '1.jpg', '11.jpg', '2.jpg', '13.jpg', '3.jpg', '15.jpg', '4.jpg', '17.jpg', '5.jpg', '19.jpg', '6.jpg', '21.jpg', '7.jpg', '23.jpg', '8.jpg', '25.jpg', '9.jpg', '27.jpg', '12.jpg', '29.jpg', '14.jpg', '31.jpg', '16.jpg', '33.jpg', '18.jpg', '35.jpg', '20.jpg', '37.jpg', '22.jpg', '39.jpg', '24.jpg', '41.jpg', '26.jpg', '43.jpg', '28.jpg', '45.jpg', '30.jpg', '47.jpg', '32.jpg', '49.jpg', '34.jpg', '51.jpg', '36.jpg', '53.jpg', '55.jpg', '38.jpg', '56.jpg', '40.jpg', '58.jpg', '42.jpg', '60.jpg', '44.jpg', '62.jpg', '46.jpg', '64.jpg', '48.jpg', '66.jpg', '50.jpg', '68.jpg', '52.jpg', '70.jpg', '54.jpg', '72.jpg', '74.jpg', '75.jpg', '76.jpg', '77.jpg', '57.jpg', '78.jpg', '80.jpg', '81.jpg', '82.jpg', '59.jpg', '83.jpg', '61.jpg', '84.jpg', '63.jpg', '87.jpg', '65.jpg', '89.jpg', '67.jpg', '91.jpg', '93.jpg', '69.jpg', '94.jpg', '71.jpg', '73.jpg', '79.jpg', '96.jpg', '85.jpg', '100.jpg', '86.jpg', '102.jpg', '103.jpg', '88.jpg']\n",
            "['92.jpg', '108.jpg', '94.jpg', '110.jpg', '96.jpg', '112.jpg', '97.jpg', '114.jpg', '99.jpg', '116.jpg', '101.jpg', '118.jpg', '103.jpg', '120.jpg', '105.jpg', '122.jpg', '107.jpg', '109.jpg', '124.jpg', '127.jpg', '111.jpg', '113.jpg', '129.jpg', '115.jpg', '131.jpg', '117.jpg', '119.jpg', '132.jpg', '121.jpg', '136.jpg', '138.jpg', '139.jpg', '140.jpg', '141.jpg', '142.jpg', '143.jpg', '123.jpg', '144.jpg', '125.jpg', '146.jpg', '126.jpg', '148.jpg', '128.jpg', '150.jpg', '130.jpg', '152.jpg', '133.jpg', '154.jpg', '134.jpg', '156.jpg', '135.jpg', '158.jpg', '137.jpg', '160.jpg', '145.jpg', '162.jpg', '147.jpg', '164.jpg', '149.jpg', '166.jpg', '151.jpg', '168.jpg', '153.jpg', '170.jpg', '155.jpg', '172.jpg', '157.jpg', '174.jpg', '159.jpg', '176.jpg', '178.jpg', '161.jpg', '179.jpg', '163.jpg', '165.jpg', '181.jpg', '167.jpg', '184.jpg', '169.jpg', '186.jpg', '171.jpg', '188.jpg', '173.jpg', '190.jpg', '175.jpg', '192.jpg', '177.jpg', '194.jpg', '180.jpg', '196.jpg', '182.jpg', '198.jpg', '200.jpg', '201.jpg', '202.jpg', '203.jpg', '204.jpg', '183.jpg', '205.jpg', '185.jpg', '207.jpg', '209.jpg', '187.jpg', '210.jpg', '189.jpg', '212.jpg', '191.jpg', '214.jpg', '193.jpg', '216.jpg', '195.jpg', '218.jpg', '197.jpg', '220.jpg', '199.jpg', '222.jpg', '206.jpg', '224.jpg', '208.jpg', '226.jpg', '211.jpg', '213.jpg', '229.jpg', '231.jpg', '215.jpg', '232.jpg', '217.jpg', '234.jpg', '219.jpg', '236.jpg', '221.jpg', '238.jpg', '223.jpg', '240.jpg', '225.jpg', '242.jpg', '227.jpg', '244.jpg', '228.jpg', '246.jpg', '230.jpg', '248.jpg', '233.jpg', '235.jpg', '237.jpg', '239.jpg', '250.jpg', '241.jpg', '255.jpg', '243.jpg', '245.jpg', '257.jpg', '247.jpg', '249.jpg', '251.jpg', '260.jpg', '252.jpg', '264.jpg', '253.jpg', '266.jpg', '254.jpg', '268.jpg', '256.jpg', '270.jpg', '258.jpg', '272.jpg', '259.jpg', '274.jpg', '261.jpg', '276.jpg', '262.jpg', '278.jpg', '263.jpg', '280.jpg', '265.jpg', '282.jpg', '267.jpg', '284.jpg', '269.jpg', '286.jpg', '271.jpg', '288.jpg', '290.jpg', '273.jpg', '275.jpg', '292.jpg', '294.jpg', '295.jpg', '296.jpg', '297.jpg', '298.jpg', '299.jpg', '277.jpg', '300.jpg', '279.jpg', '302.jpg', '281.jpg', '283.jpg', '285.jpg', '287.jpg', '289.jpg', '291.jpg', '293.jpg', '301.jpg', '304.jpg', '303.jpg', '313.jpg', '305.jpg', '315.jpg', '317.jpg', '318.jpg', '306.jpg', '307.jpg', '320.jpg', '308.jpg', '322.jpg', '309.jpg', '324.jpg', '310.jpg', '326.jpg', '311.jpg', '328.jpg', '312.jpg', '330.jpg', '314.jpg', '316.jpg', '332.jpg', '319.jpg', '335.jpg', '321.jpg', '337.jpg', '323.jpg', '339.jpg', '325.jpg', '341.jpg', '327.jpg', '329.jpg', '331.jpg', '343.jpg', '333.jpg', '347.jpg', '348.jpg', '334.jpg', '351.jpg', '336.jpg', '352.jpg', '354.jpg', '338.jpg', '355.jpg', '340.jpg', '358.jpg', '359.jpg', '360.jpg', '342.jpg', '361.jpg', '344.jpg', '363.jpg', '345.jpg', '365.jpg', '346.jpg', '367.jpg', '349.jpg', '350.jpg', '353.jpg', '356.jpg', '357.jpg', '362.jpg', '364.jpg', '369.jpg', '366.jpg', '377.jpg', '368.jpg', '379.jpg', '370.jpg', '381.jpg', '371.jpg', '383.jpg', '372.jpg', '385.jpg', '373.jpg', '387.jpg', '374.jpg', '389.jpg', '375.jpg', '376.jpg', '378.jpg', '391.jpg', '380.jpg', '395.jpg', '382.jpg', '397.jpg', '384.jpg', '399.jpg', '386.jpg', '401.jpg', '388.jpg', '403.jpg', '390.jpg', '405.jpg', '392.jpg', '407.jpg', '393.jpg', '409.jpg', '394.jpg', '411.jpg', '396.jpg', '413.jpg', '398.jpg', '415.jpg', '400.jpg', '417.jpg', '402.jpg', '419.jpg', '404.jpg', '421.jpg', '406.jpg', '423.jpg', '408.jpg', '425.jpg', '410.jpg', '427.jpg', '412.jpg', '429.jpg', '414.jpg', '431.jpg', '433.jpg', '416.jpg', '434.jpg', '418.jpg', '436.jpg', '420.jpg', '438.jpg', '439.jpg', '422.jpg', '424.jpg', '441.jpg', '426.jpg', '444.jpg', '428.jpg', '446.jpg', '430.jpg', '448.jpg', '432.jpg', '450.jpg', '435.jpg', '452.jpg', '437.jpg', '454.jpg', '440.jpg', '456.jpg', '442.jpg', '458.jpg', '443.jpg', '460.jpg', '445.jpg', '462.jpg', '447.jpg', '464.jpg', '449.jpg', '466.jpg', '451.jpg', '468.jpg', '453.jpg', '470.jpg', '455.jpg', '457.jpg', '472.jpg', '459.jpg', '475.jpg', '461.jpg', '477.jpg', '463.jpg', '479.jpg', '465.jpg', '481.jpg', '467.jpg', '483.jpg', '469.jpg', '485.jpg', '471.jpg', '487.jpg', '489.jpg', '473.jpg', '490.jpg', '474.jpg', '492.jpg', '476.jpg', '494.jpg', '478.jpg', '496.jpg', '480.jpg', '498.jpg', '482.jpg', '500.jpg', '484.jpg', '502.jpg', '486.jpg', '504.jpg', '488.jpg', '506.jpg', '491.jpg', '508.jpg', '510.jpg', '493.jpg', '495.jpg', '497.jpg', '511.jpg', '499.jpg', '515.jpg', '501.jpg', '517.jpg', '503.jpg', '519.jpg', '505.jpg', '521.jpg', '507.jpg', '523.jpg', '509.jpg', '525.jpg', '527.jpg', '512.jpg', '513.jpg', '528.jpg', '514.jpg', '531.jpg', '516.jpg', '533.jpg', '518.jpg', '520.jpg', '535.jpg', '522.jpg', '538.jpg', '524.jpg', '540.jpg', '526.jpg', '542.jpg', '529.jpg', '544.jpg', '530.jpg', '546.jpg', '532.jpg', '548.jpg', '534.jpg', '550.jpg', '536.jpg', '552.jpg', '537.jpg', '554.jpg', '539.jpg', '541.jpg', '556.jpg', '558.jpg', '543.jpg', '560.jpg', '545.jpg', '562.jpg', '547.jpg', '564.jpg', '549.jpg', '566.jpg', '551.jpg', '568.jpg', '570.jpg', '553.jpg', '571.jpg', '555.jpg', '573.jpg', '557.jpg', '575.jpg', '559.jpg', '577.jpg', '561.jpg', '579.jpg', '563.jpg', '581.jpg', '565.jpg', '583.jpg', '567.jpg', '585.jpg', '569.jpg', '587.jpg', '572.jpg', '589.jpg', '574.jpg', '591.jpg', '576.jpg', '593.jpg', '578.jpg', '595.jpg', '580.jpg', '582.jpg', '597.jpg', '584.jpg', '600.jpg', '586.jpg', '602.jpg', '588.jpg', '604.jpg', '590.jpg', '606.jpg', '592.jpg', '594.jpg', '596.jpg', '598.jpg', '608.jpg', '599.jpg', '613.jpg', '601.jpg', '615.jpg', '603.jpg', '617.jpg', '605.jpg', '619.jpg', '607.jpg', '621.jpg', '609.jpg', '623.jpg', '610.jpg', '625.jpg', '611.jpg', '627.jpg', '612.jpg', '629.jpg', '614.jpg', '631.jpg', '616.jpg', '633.jpg', '618.jpg', '635.jpg', '620.jpg', '637.jpg', '622.jpg', '639.jpg', '641.jpg', '624.jpg', '642.jpg', '626.jpg', '644.jpg', '628.jpg', '646.jpg', '648.jpg', '630.jpg', '649.jpg', '632.jpg', '651.jpg', '634.jpg', '653.jpg', '636.jpg', '655.jpg', '638.jpg', '657.jpg', '640.jpg', '659.jpg', '643.jpg', '661.jpg', '645.jpg', '663.jpg', '647.jpg', '665.jpg', '650.jpg', '667.jpg', '652.jpg', '669.jpg', '654.jpg', '671.jpg', '656.jpg', '673.jpg', '658.jpg', '660.jpg', '675.jpg', '662.jpg', '678.jpg', '664.jpg', '680.jpg', '666.jpg', '682.jpg', '668.jpg', '684.jpg', '670.jpg', '686.jpg', '672.jpg', '688.jpg', '674.jpg', '676.jpg', '677.jpg', '690.jpg', '679.jpg', '694.jpg', '681.jpg', '696.jpg', '683.jpg', '698.jpg', '685.jpg', '700.jpg', '687.jpg', '702.jpg', '689.jpg', '704.jpg', '691.jpg', '692.jpg', '706.jpg', '693.jpg', '709.jpg', '711.jpg', '712.jpg', '713.jpg', '695.jpg', '697.jpg', '714.jpg', '716.jpg', '699.jpg', '718.jpg', '701.jpg', '720.jpg', '703.jpg', '705.jpg', '707.jpg', '722.jpg', '708.jpg', '710.jpg', '726.jpg', '715.jpg', '729.jpg', '717.jpg', '731.jpg', '719.jpg', '733.jpg', '721.jpg', '735.jpg', '723.jpg', '737.jpg', '724.jpg', '739.jpg', '725.jpg', '741.jpg', '727.jpg', '743.jpg', '728.jpg', '745.jpg', '730.jpg', '732.jpg', '747.jpg', '750.jpg', '734.jpg', '751.jpg', '736.jpg', '753.jpg', '738.jpg', '755.jpg', '740.jpg', '757.jpg', '742.jpg', '759.jpg', '744.jpg', '761.jpg', '763.jpg', '764.jpg', '765.jpg', '746.jpg', '766.jpg', '748.jpg', '768.jpg', '749.jpg', '770.jpg', '752.jpg', '772.jpg', '754.jpg', '774.jpg', '756.jpg', '776.jpg', '758.jpg', '778.jpg', '760.jpg', '780.jpg', '762.jpg', '782.jpg', '767.jpg', '784.jpg', '769.jpg', '786.jpg', '771.jpg', '788.jpg', '773.jpg', '775.jpg', '790.jpg', '777.jpg', '793.jpg', '795.jpg', '779.jpg', '796.jpg', '781.jpg', '783.jpg', '785.jpg', '787.jpg', '798.jpg', '789.jpg', '803.jpg', '805.jpg', '806.jpg', '807.jpg', '791.jpg', '808.jpg', '792.jpg', '810.jpg', '794.jpg', '812.jpg', '797.jpg', '814.jpg', '799.jpg', '816.jpg', '800.jpg', '818.jpg', '801.jpg', '820.jpg', '802.jpg', '804.jpg', '822.jpg', '809.jpg', '825.jpg', '811.jpg', '827.jpg', '813.jpg', '829.jpg', '815.jpg', '817.jpg', '831.jpg', '819.jpg', '834.jpg', '821.jpg', '836.jpg', '823.jpg', '838.jpg', '824.jpg', '840.jpg', '842.jpg', '826.jpg', '828.jpg', '843.jpg', '830.jpg', '846.jpg', '832.jpg', '848.jpg', '833.jpg', '850.jpg', '835.jpg', '852.jpg', '837.jpg', '854.jpg', '839.jpg', '856.jpg', '857.jpg', '841.jpg', '859.jpg', '844.jpg', '845.jpg', '861.jpg', '847.jpg', '864.jpg', '849.jpg', '866.jpg', '851.jpg', '868.jpg', '853.jpg', '855.jpg', '858.jpg', '860.jpg', '862.jpg', '870.jpg', '863.jpg', '876.jpg', '865.jpg', '878.jpg', '867.jpg', '880.jpg', '869.jpg', '882.jpg', '871.jpg', '884.jpg', '872.jpg', '886.jpg', '873.jpg', '888.jpg', '874.jpg', '890.jpg', '875.jpg', '892.jpg', '877.jpg', '894.jpg', '879.jpg', '896.jpg', '881.jpg', '898.jpg', '883.jpg', '900.jpg', '885.jpg', '902.jpg', '904.jpg', '887.jpg', '906.jpg', '889.jpg', '907.jpg', '891.jpg', '909.jpg', '893.jpg', '895.jpg', '911.jpg', '897.jpg', '914.jpg', '899.jpg', '916.jpg', '901.jpg', '903.jpg', '917.jpg', '905.jpg', '921.jpg', '908.jpg', '923.jpg', '910.jpg', '925.jpg', '912.jpg', '927.jpg', '913.jpg', '929.jpg', '915.jpg', '931.jpg', '918.jpg', '933.jpg', '919.jpg', '935.jpg', '920.jpg', '937.jpg', '922.jpg', '939.jpg', '924.jpg', '941.jpg', '942.jpg', '926.jpg', '944.jpg', '928.jpg', '930.jpg', '946.jpg', '932.jpg', '949.jpg', '934.jpg', '951.jpg', '936.jpg', '953.jpg', '938.jpg', '955.jpg', '940.jpg', '957.jpg', '943.jpg', '959.jpg', '945.jpg', '961.jpg', '947.jpg', '948.jpg', '964.jpg', '950.jpg', '966.jpg', '952.jpg', '968.jpg', '954.jpg', '970.jpg', '956.jpg', '972.jpg', '958.jpg', '974.jpg', '960.jpg', '962.jpg', '976.jpg', '963.jpg', '979.jpg', '965.jpg', '981.jpg', '967.jpg', '983.jpg', '969.jpg', '985.jpg', '971.jpg', '987.jpg', '973.jpg', '989.jpg', '991.jpg', '992.jpg', '975.jpg', '993.jpg', '977.jpg', '995.jpg', '978.jpg', '997.jpg', '980.jpg', '999.jpg', '982.jpg', '1001.jpg', '984.jpg', '1003.jpg', '1005.jpg', '1006.jpg', '1007.jpg', '1008.jpg', '986.jpg', '1009.jpg', '988.jpg', '990.jpg', '994.jpg', '996.jpg', '1011.jpg', '1016.jpg', '998.jpg', '1000.jpg', '1002.jpg', '1018.jpg', '1004.jpg', '1021.jpg', '1010.jpg', '1023.jpg', '1012.jpg', '1025.jpg', '1013.jpg', '1027.jpg', '1029.jpg', '1030.jpg', '1031.jpg', '1014.jpg', '1032.jpg', '1015.jpg', '1034.jpg', '1017.jpg', '1036.jpg', '1019.jpg', '1038.jpg', '1020.jpg', '1040.jpg', '1042.jpg', '1022.jpg', '1024.jpg', '1044.jpg', '1026.jpg', '1046.jpg', '1028.jpg', '1048.jpg', '1033.jpg', '1050.jpg', '1035.jpg', '1052.jpg', '1037.jpg', '1054.jpg', '1039.jpg', '1056.jpg', '1041.jpg', '1058.jpg', '1043.jpg', '1060.jpg', '1045.jpg', '1062.jpg', '1047.jpg', '1064.jpg', '1049.jpg', '1066.jpg', '1068.jpg', '1051.jpg', '1069.jpg', '1053.jpg', '1071.jpg', '1055.jpg', '1073.jpg', '1057.jpg', '1075.jpg', '1059.jpg', '1077.jpg', '1061.jpg', '1079.jpg', '1063.jpg', '1081.jpg', '1065.jpg', '1083.jpg', '1067.jpg', '1085.jpg', '1087.jpg', '1070.jpg', '1072.jpg', '1088.jpg', '1074.jpg', '1091.jpg', '1076.jpg', '1093.jpg', '1078.jpg', '1095.jpg', '1080.jpg', '1097.jpg', '1082.jpg', '1084.jpg', '1086.jpg', '1089.jpg', '1090.jpg', '1092.jpg', '1094.jpg', '1096.jpg', '1098.jpg', '1.jpg', '3.jpg', '6.jpg', '8.jpg', '10.jpg', '12.jpg', '14.jpg', '16.jpg', '2.jpg', '18.jpg', '4.jpg', '20.jpg', '5.jpg', '22.jpg', '7.jpg', '24.jpg', '9.jpg', '26.jpg', '11.jpg', '28.jpg', '13.jpg', '30.jpg', '15.jpg', '32.jpg', '17.jpg', '34.jpg', '19.jpg', '21.jpg', '36.jpg', '23.jpg', '39.jpg', '25.jpg', '41.jpg', '27.jpg', '43.jpg', '29.jpg', '45.jpg', '31.jpg', '47.jpg', '33.jpg', '49.jpg', '35.jpg', '51.jpg', '37.jpg', '53.jpg', '38.jpg', '55.jpg', '40.jpg', '57.jpg', '42.jpg', '59.jpg', '44.jpg', '61.jpg', '46.jpg', '63.jpg', '48.jpg', '65.jpg', '66.jpg', '68.jpg', '69.jpg', '70.jpg', '50.jpg', '52.jpg', '72.jpg', '73.jpg', '54.jpg', '75.jpg', '56.jpg', '77.jpg', '58.jpg', '79.jpg', '60.jpg', '81.jpg', '62.jpg', '83.jpg', '64.jpg', '85.jpg', '67.jpg', '87.jpg', '71.jpg', '89.jpg', '74.jpg', '91.jpg', '76.jpg', '93.jpg', '78.jpg', '80.jpg', '95.jpg', '82.jpg', '98.jpg', '84.jpg', '100.jpg', '86.jpg', '102.jpg', '88.jpg', '104.jpg', '90.jpg', '106.jpg']\n"
          ]
        },
        {
          "output_type": "stream",
          "name": "stderr",
          "text": [
            "100%|██████████| 69/69 [00:49<00:00,  1.39it/s]\n"
          ]
        },
        {
          "output_type": "stream",
          "name": "stdout",
          "text": [
            "=> Saving checkpoint\n",
            "=> Saving checkpoint\n"
          ]
        },
        {
          "output_type": "stream",
          "name": "stderr",
          "text": [
            "100%|██████████| 69/69 [00:50<00:00,  1.36it/s]\n",
            "100%|██████████| 69/69 [00:52<00:00,  1.33it/s]\n",
            "100%|██████████| 69/69 [00:53<00:00,  1.30it/s]\n",
            "100%|██████████| 69/69 [00:53<00:00,  1.29it/s]\n",
            "100%|██████████| 69/69 [00:53<00:00,  1.29it/s]\n",
            "100%|██████████| 69/69 [00:53<00:00,  1.29it/s]\n",
            "100%|██████████| 69/69 [00:53<00:00,  1.29it/s]\n",
            "100%|██████████| 69/69 [00:53<00:00,  1.29it/s]\n",
            "100%|██████████| 69/69 [00:53<00:00,  1.29it/s]\n",
            "100%|██████████| 69/69 [00:53<00:00,  1.29it/s]\n"
          ]
        },
        {
          "output_type": "stream",
          "name": "stdout",
          "text": [
            "=> Saving checkpoint\n",
            "=> Saving checkpoint\n"
          ]
        },
        {
          "output_type": "stream",
          "name": "stderr",
          "text": [
            "100%|██████████| 69/69 [00:53<00:00,  1.29it/s]\n",
            "100%|██████████| 69/69 [00:53<00:00,  1.29it/s]\n",
            "100%|██████████| 69/69 [00:53<00:00,  1.29it/s]\n",
            "100%|██████████| 69/69 [00:53<00:00,  1.29it/s]\n",
            "100%|██████████| 69/69 [00:53<00:00,  1.29it/s]\n",
            "100%|██████████| 69/69 [00:53<00:00,  1.29it/s]\n",
            "100%|██████████| 69/69 [00:53<00:00,  1.29it/s]\n",
            "100%|██████████| 69/69 [00:53<00:00,  1.29it/s]\n",
            "100%|██████████| 69/69 [00:53<00:00,  1.29it/s]\n",
            "100%|██████████| 69/69 [00:53<00:00,  1.29it/s]\n"
          ]
        },
        {
          "output_type": "stream",
          "name": "stdout",
          "text": [
            "=> Saving checkpoint\n",
            "=> Saving checkpoint\n"
          ]
        },
        {
          "output_type": "stream",
          "name": "stderr",
          "text": [
            "100%|██████████| 69/69 [00:53<00:00,  1.28it/s]\n",
            "100%|██████████| 69/69 [00:53<00:00,  1.29it/s]\n",
            "100%|██████████| 69/69 [00:53<00:00,  1.29it/s]\n",
            "100%|██████████| 69/69 [00:53<00:00,  1.29it/s]\n",
            "100%|██████████| 69/69 [00:53<00:00,  1.29it/s]\n",
            "100%|██████████| 69/69 [00:53<00:00,  1.29it/s]\n",
            "100%|██████████| 69/69 [00:53<00:00,  1.29it/s]\n",
            "100%|██████████| 69/69 [00:53<00:00,  1.29it/s]\n",
            "100%|██████████| 69/69 [00:53<00:00,  1.29it/s]\n",
            "100%|██████████| 69/69 [00:53<00:00,  1.29it/s]\n"
          ]
        },
        {
          "output_type": "stream",
          "name": "stdout",
          "text": [
            "=> Saving checkpoint\n",
            "=> Saving checkpoint\n"
          ]
        },
        {
          "output_type": "stream",
          "name": "stderr",
          "text": [
            "100%|██████████| 69/69 [00:53<00:00,  1.29it/s]\n",
            "100%|██████████| 69/69 [00:53<00:00,  1.29it/s]\n",
            "  0%|          | 0/69 [00:00<?, ?it/s]"
          ]
        }
      ]
    }
  ]
}